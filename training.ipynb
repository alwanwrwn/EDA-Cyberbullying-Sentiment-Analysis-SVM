{
 "cells": [
  {
   "cell_type": "code",
   "execution_count": 494,
   "metadata": {},
   "outputs": [],
   "source": [
    "import pandas as pd\n",
    "import numpy as np\n",
    "\n",
    "from sklearn.model_selection import train_test_split, cross_val_score, GridSearchCV, StratifiedKFold\n",
    "from sklearn.feature_extraction.text import TfidfVectorizer\n",
    "from sklearn.svm import SVC\n",
    "from sklearn.metrics import accuracy_score, precision_score, recall_score, f1_score, classification_report"
   ]
  },
  {
   "cell_type": "code",
   "execution_count": 495,
   "metadata": {},
   "outputs": [],
   "source": [
    "column = ['sentimen', 'komen']"
   ]
  },
  {
   "cell_type": "code",
   "execution_count": 497,
   "metadata": {},
   "outputs": [],
   "source": [
    "df_training = pd.read_csv('data/data_training_50.txt', sep='\\t', header=None)\n",
    "df_training.set_axis(column, axis=1, inplace=True)"
   ]
  },
  {
   "cell_type": "code",
   "execution_count": 499,
   "metadata": {},
   "outputs": [],
   "source": [
    "df_testing = pd.read_csv('data/data_testing_50.txt', sep='\\t', header=None)\n",
    "df_testing.set_axis(column, axis=1, inplace=True)"
   ]
  },
  {
   "cell_type": "code",
   "execution_count": 500,
   "metadata": {},
   "outputs": [],
   "source": [
    "X_trainval, X_test, y_trainval, y_test = df_training['komen'], df_testing['komen'], df_training['sentimen'], df_testing['sentimen']"
   ]
  },
  {
   "cell_type": "code",
   "execution_count": 502,
   "metadata": {},
   "outputs": [],
   "source": [
    "tfidf_vectorizer = TfidfVectorizer()"
   ]
  },
  {
   "cell_type": "code",
   "execution_count": 504,
   "metadata": {},
   "outputs": [],
   "source": [
    "X_trainval_tfidf = tfidf_vectorizer.fit_transform(X_trainval)\n",
    "X_test_tfidf = tfidf_vectorizer.transform(X_test)"
   ]
  },
  {
   "cell_type": "code",
   "execution_count": 505,
   "metadata": {},
   "outputs": [],
   "source": [
    "feature = pd.DataFrame(X_trainval_tfidf.todense().T,\n",
    "                       index = tfidf_vectorizer.get_feature_names_out(),\n",
    "                       columns=[f'D{i+1}' for i in range(len(X_trainval))])"
   ]
  },
  {
   "cell_type": "code",
   "execution_count": 506,
   "metadata": {},
   "outputs": [
    {
     "data": {
      "text/plain": [
       "SVC(C=0.0001, degree=2, gamma=100, kernel='poly', max_iter=10000,\n",
       "    random_state=42)"
      ]
     },
     "execution_count": 506,
     "metadata": {},
     "output_type": "execute_result"
    }
   ],
   "source": [
    "# Step 4: Training and Hyperparameter Tuning\n",
    "param_grid = {\n",
    "            #   'gamma': [0.0001, 0.001, 0.01, 0.1, 1, 10, 100, 1000],\n",
    "            #   'C': [0.0001, 0.001, 0.01, 0.1, 1, 10, 100, 1000],\n",
    "              'gamma': [100],\n",
    "              'C': [0.0001],\n",
    "              'kernel': ['poly'],\n",
    "              'max_iter': [10000],\n",
    "              'degree':[2],\n",
    "              'random_state' : [42]}\n",
    "svm_model = SVC()\n",
    "grid_search = GridSearchCV(svm_model, param_grid, cv=10, n_jobs=-1)\n",
    "grid_search.fit(X_trainval_tfidf, y_trainval)\n",
    "best_svm_model = grid_search.best_estimator_\n",
    "best_svm_model\n"
   ]
  },
  {
   "cell_type": "code",
   "execution_count": 509,
   "metadata": {},
   "outputs": [],
   "source": [
    "X_trainval = pd.array(X_trainval)\n",
    "y_trainval = pd.array(y_trainval)"
   ]
  },
  {
   "cell_type": "code",
   "execution_count": 510,
   "metadata": {},
   "outputs": [],
   "source": [
    "k_fold = 10"
   ]
  },
  {
   "cell_type": "code",
   "execution_count": 512,
   "metadata": {},
   "outputs": [],
   "source": [
    "skf = StratifiedKFold(n_splits=k_fold)\n",
    "\n",
    "target_names = ['negatif', 'positif']\n",
    "acc_score = []\n",
    "kfold_report=[]\n",
    "\n",
    "kf_model = best_svm_model\n",
    "\n",
    "kf_tfidf_vectorizer = TfidfVectorizer(min_df=2,max_df=0.9)\n",
    "\n",
    "for train_index, test_index in skf.split(X_trainval, y_trainval):\n",
    "        kf_x_train, kf_x_test = X_trainval[train_index], X_trainval[test_index]\n",
    "        kf_y_train, kf_y_test = y_trainval[train_index], y_trainval[test_index]\n",
    "\n",
    "        # Fit and transform the training data using TF-IDF\n",
    "        kf_x_train_tfidf = kf_tfidf_vectorizer.fit_transform(kf_x_train)\n",
    "\n",
    "        # Transform the test data using the fitted TF-IDF vectorizer\n",
    "        kf_x_test_tfidf = kf_tfidf_vectorizer.transform(kf_x_test)\n",
    "\n",
    "        # Train the SVM model on the TF-IDF features\n",
    "        kf_model.fit(kf_x_train_tfidf, kf_y_train)\n",
    "\n",
    "        pred_values = kf_model.predict(kf_x_test_tfidf)\n",
    "        \n",
    "        acc = accuracy_score(kf_y_test, pred_values)\n",
    "\n",
    "        # trained_model.append(classifier)\n",
    "        acc_score.append(acc)\n",
    "        kfold_report.append(classification_report(kf_y_test, pred_values, target_names=target_names, digits=4, output_dict=True))\n",
    "\n",
    "average_accuracy = np.mean(acc_score)\n",
    "max_accuracy = max(acc_score)"
   ]
  },
  {
   "cell_type": "code",
   "execution_count": 514,
   "metadata": {},
   "outputs": [
    {
     "name": "stdout",
     "output_type": "stream",
     "text": [
      "Average accuracy during cross-validation: 0.7949999999999999\n",
      "Accuracy on the test set: 0.805\n",
      "Precision on the test set: 0.805\n",
      "Recall on the test set: 0.805\n",
      "F1 score on the test set: 0.805\n"
     ]
    }
   ],
   "source": [
    "# Step 6: Final Testing\n",
    "testing_model = best_svm_model\n",
    "testing_model.fit(X_trainval_tfidf, y_trainval)\n",
    "\n",
    "final_predictions = testing_model.predict(X_test_tfidf)\n",
    "accuracy_test = accuracy_score(y_test, final_predictions)\n",
    "precision_test = precision_score(y_test, final_predictions, average='micro')\n",
    "recall_test = recall_score(y_test, final_predictions, average='micro')\n",
    "f1_test = f1_score(y_test, final_predictions, average='micro')\n",
    "\n",
    "# Print the results\n",
    "print(\"Average accuracy during cross-validation:\", average_accuracy)\n",
    "print(\"Accuracy on the test set:\", accuracy_test)\n",
    "print(\"Precision on the test set:\", precision_test)\n",
    "print(\"Recall on the test set:\", recall_test)\n",
    "print(\"F1 score on the test set:\", f1_test)\n",
    "# print(classification_report(y_true=y_test, y_pred=final_predictions, digits=4, output_dict=True))"
   ]
  }
 ],
 "metadata": {
  "kernelspec": {
   "display_name": "base",
   "language": "python",
   "name": "python3"
  },
  "language_info": {
   "codemirror_mode": {
    "name": "ipython",
    "version": 3
   },
   "file_extension": ".py",
   "mimetype": "text/x-python",
   "name": "python",
   "nbconvert_exporter": "python",
   "pygments_lexer": "ipython3",
   "version": "3.9.10"
  },
  "orig_nbformat": 4
 },
 "nbformat": 4,
 "nbformat_minor": 2
}
